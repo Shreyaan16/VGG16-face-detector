{
 "cells": [
  {
   "cell_type": "code",
   "execution_count": 1,
   "metadata": {},
   "outputs": [],
   "source": [
    "import albumentations as alb"
   ]
  },
  {
   "cell_type": "code",
   "execution_count": 7,
   "metadata": {},
   "outputs": [
    {
     "data": {
      "text/plain": [
       "(480, 640, 3)"
      ]
     },
     "execution_count": 7,
     "metadata": {},
     "output_type": "execute_result"
    }
   ],
   "source": [
    "#lets see an image shape\n",
    "import cv2\n",
    "import matplotlib.pyplot as plt\n",
    "img = cv2.imread(\"data/images/5a34532a-b5a9-11ef-bd76-8f4bc8b0bf57.jpg\" )\n",
    "img.shape"
   ]
  },
  {
   "cell_type": "code",
   "execution_count": 24,
   "metadata": {},
   "outputs": [
    {
     "name": "stderr",
     "output_type": "stream",
     "text": [
      "c:\\Users\\shrey\\miniconda3\\envs\\vision_env\\lib\\site-packages\\pydantic\\main.py:426: UserWarning: Pydantic serializer warnings:\n",
      "  Expected `dict[str, any]` but got `UniformParams` with value `UniformParams(noise_type=...6, 0.0784313725490196)])` - serialized value may not be as expected\n",
      "  return self.__pydantic_serializer__.to_python(\n"
     ]
    }
   ],
   "source": [
    "augmentor = alb.Compose([alb.RandomCrop(width=450, height=450), \n",
    "                         alb.HorizontalFlip(p=0.5), \n",
    "                         alb.RandomBrightnessContrast(p=0.2),\n",
    "                         alb.RandomGamma(p=0.2), \n",
    "                         alb.RGBShift(p=0.2), \n",
    "                         alb.VerticalFlip(p=0.5)], \n",
    "                         bbox_params=alb.BboxParams(format='albumentations', label_fields=['class_labels']))"
   ]
  },
  {
   "cell_type": "code",
   "execution_count": 13,
   "metadata": {},
   "outputs": [
    {
     "data": {
      "text/plain": [
       "{'version': '5.5.0',\n",
       " 'flags': {},\n",
       " 'shapes': [{'label': 'face',\n",
       "   'points': [[294.1666666666667, 432.22222222222223],\n",
       "    [461.38888888888886, 478.3333333333333]],\n",
       "   'group_id': None,\n",
       "   'description': '',\n",
       "   'shape_type': 'rectangle',\n",
       "   'flags': {},\n",
       "   'mask': None}],\n",
       " 'imagePath': '..\\\\images\\\\5a86536a-b5a9-11ef-a1f3-8f4bc8b0bf57.jpg',\n",
       " 'imageData': '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',\n",
       " 'imageHeight': 480,\n",
       " 'imageWidth': 640}"
      ]
     },
     "execution_count": 13,
     "metadata": {},
     "output_type": "execute_result"
    }
   ],
   "source": [
    "#load an image and corresponding json\n",
    "import os\n",
    "import json\n",
    "img_path = '5a86536a-b5a9-11ef-a1f3-8f4bc8b0bf57.jpg'\n",
    "json_path = '5a86536a-b5a9-11ef-a1f3-8f4bc8b0bf57.json'\n",
    "img = cv2.imread(os.path.join('data','train', 'images', img_path))\n",
    "with open(os.path.join('data', 'train', 'labels', json_path), 'r') as f:\n",
    "    label = json.load(f)\n",
    "label"
   ]
  },
  {
   "cell_type": "code",
   "execution_count": 15,
   "metadata": {},
   "outputs": [
    {
     "data": {
      "text/plain": [
       "[[294.1666666666667, 432.22222222222223],\n",
       " [461.38888888888886, 478.3333333333333]]"
      ]
     },
     "execution_count": 15,
     "metadata": {},
     "output_type": "execute_result"
    }
   ],
   "source": [
    "#to see the annotation\n",
    "label['shapes'][0]['points']"
   ]
  },
  {
   "cell_type": "code",
   "execution_count": 18,
   "metadata": {},
   "outputs": [
    {
     "data": {
      "text/plain": [
       "[294.1666666666667, 432.22222222222223, 461.38888888888886, 478.3333333333333]"
      ]
     },
     "execution_count": 18,
     "metadata": {},
     "output_type": "execute_result"
    }
   ],
   "source": [
    "#extract coordinates\n",
    "coords = [0,0,0,0]\n",
    "coords[0] = label['shapes'][0]['points'][0][0]\n",
    "coords[1] = label['shapes'][0]['points'][0][1]\n",
    "coords[2] = label['shapes'][0]['points'][1][0]\n",
    "coords[3] = label['shapes'][0]['points'][1][1]\n",
    "#this is the pascal_voc format we need to normalize it\n",
    "#divide x coord by width and y coord by height\n",
    "coords"
   ]
  },
  {
   "cell_type": "code",
   "execution_count": 19,
   "metadata": {},
   "outputs": [
    {
     "data": {
      "text/plain": [
       "[0.4596354166666667, 0.900462962962963, 0.7209201388888888, 0.9965277777777778]"
      ]
     },
     "execution_count": 19,
     "metadata": {},
     "output_type": "execute_result"
    }
   ],
   "source": [
    "import numpy as np\n",
    "coords = list(np.divide(coords, [640,480,640,480]))\n",
    "#this is albumentation format\n",
    "coords"
   ]
  },
  {
   "cell_type": "code",
   "execution_count": 25,
   "metadata": {},
   "outputs": [
    {
     "data": {
      "text/plain": [
       "dict_keys(['image', 'bboxes', 'class_labels'])"
      ]
     },
     "execution_count": 25,
     "metadata": {},
     "output_type": "execute_result"
    }
   ],
   "source": [
    "#apply augmentation and view \n",
    "augmented = augmentor(image=img, bboxes=[coords], class_labels= ['class_labels'] , )\n",
    "#this is a dictionary\n",
    "augmented.keys()"
   ]
  },
  {
   "cell_type": "markdown",
   "metadata": {},
   "source": [
    "Again dont want to show the image"
   ]
  },
  {
   "cell_type": "code",
   "execution_count": 31,
   "metadata": {},
   "outputs": [],
   "source": [
    "# #see the augmentation\n",
    "# cv2.rectangle(augmented['image'], \n",
    "#               tuple(np.multiply(augmented['bboxes'][0][:2], [450,450]).astype(int)),\n",
    "#               tuple(np.multiply(augmented['bboxes'][0][2:], [450,450]).astype(int)), \n",
    "#                     (255,0,0), 2)\n",
    "\n",
    "# plt.imshow(augmented['image'])"
   ]
  },
  {
   "cell_type": "markdown",
   "metadata": {},
   "source": [
    "Create a new folder aug_data (in the same directory as data folder)\n",
    "\n",
    "and inside that make train test and val folders"
   ]
  },
  {
   "cell_type": "code",
   "execution_count": 34,
   "metadata": {},
   "outputs": [
    {
     "name": "stdout",
     "output_type": "stream",
     "text": [
      "Folder created at: ./aug_data\n",
      "Folder created at: ./aug_data/train\n",
      "Folder created at: ./aug_data/test\n",
      "Folder created at: ./aug_data/val\n"
     ]
    }
   ],
   "source": [
    "#aug_data\n",
    "aug_data_path = \"./aug_data\"\n",
    "os.makedirs(aug_data_path, exist_ok=True)\n",
    "print(f\"Folder created at: {aug_data_path}\")\n",
    "\n",
    "#aug_data - train\n",
    "train_aug_path = \"./aug_data/train\"\n",
    "os.makedirs(train_aug_path, exist_ok=True)\n",
    "print(f\"Folder created at: {train_aug_path}\")\n",
    "\n",
    "#aug_data - test\n",
    "test_aug_path = \"./aug_data/test\"\n",
    "os.makedirs(test_aug_path, exist_ok=True)\n",
    "print(f\"Folder created at: {test_aug_path}\")\n",
    "\n",
    "#aug_data - val\n",
    "val_aug_path = \"./aug_data/val\"\n",
    "os.makedirs(val_aug_path, exist_ok=True)\n",
    "print(f\"Folder created at: {val_aug_path}\")\n"
   ]
  },
  {
   "cell_type": "code",
   "execution_count": null,
   "metadata": {},
   "outputs": [
    {
     "name": "stdout",
     "output_type": "stream",
     "text": [
      "Folder created at: ./aug_data/val/images\n"
     ]
    }
   ],
   "source": [
    "#inside each aug_data train test val make 2 folders images and labels\n",
    "\n",
    "#labels\n",
    "TRAIN_LABEL_PATH = \"./aug_data/train/labels\"\n",
    "os.makedirs(TRAIN_LABEL_PATH, exist_ok=True)\n",
    "print(f\"Folder created at: {TRAIN_LABEL_PATH}\")\n",
    "\n",
    "TEST_LABEL_PATH = \"./aug_data/test/labels\"\n",
    "os.makedirs(TEST_LABEL_PATH, exist_ok=True)\n",
    "print(f\"Folder created at: {TEST_LABEL_PATH}\")\n",
    "\n",
    "VAL_LABEL_PATH = \"./aug_data/val/labels\"\n",
    "os.makedirs(VAL_LABEL_PATH, exist_ok=True)\n",
    "print(f\"Folder created at: {VAL_LABEL_PATH}\")\n",
    "\n",
    "\n",
    "#images\n",
    "TRAIN_IMAGE_PATH = \"./aug_data/train/images\"\n",
    "os.makedirs(TRAIN_IMAGE_PATH, exist_ok=True)\n",
    "print(f\"Folder created at: {TRAIN_IMAGE_PATH}\")\n",
    "\n",
    "TEST_IMAGE_PATH = \"./aug_data/test/images\"\n",
    "os.makedirs(TEST_IMAGE_PATH, exist_ok=True)\n",
    "print(f\"Folder created at: {TEST_IMAGE_PATH}\")\n",
    "\n",
    "VAL_IMAGE_PATH = \"./aug_data/val/images\"\n",
    "os.makedirs(VAL_IMAGE_PATH, exist_ok=True)\n",
    "print(f\"Folder created at: {VAL_IMAGE_PATH}\")"
   ]
  },
  {
   "cell_type": "markdown",
   "metadata": {},
   "source": [
    "Some images will be dropped in the below step"
   ]
  },
  {
   "cell_type": "code",
   "execution_count": 38,
   "metadata": {},
   "outputs": [
    {
     "name": "stdout",
     "output_type": "stream",
     "text": [
      "x_max is less than or equal to x_min for bbox [0.60633683 0.94907409 0.4171007  0.61689812 0.        ].\n"
     ]
    },
    {
     "name": "stderr",
     "output_type": "stream",
     "text": [
      "c:\\Users\\shrey\\miniconda3\\envs\\vision_env\\lib\\site-packages\\albumentations\\core\\bbox_utils.py:478: RuntimeWarning: invalid value encountered in divide\n",
      "  & (clipped_box_areas / denormalized_box_areas >= min_visibility - epsilon)\n"
     ]
    },
    {
     "name": "stdout",
     "output_type": "stream",
     "text": [
      "x_max is less than or equal to x_min for bbox [0.99262154 0.44907406 0.76171875 0.83912039 0.        ].\n",
      "x_max is less than or equal to x_min for bbox [0.99609375 0.57291669 0.88585067 0.8900463  0.        ].\n",
      "x_max is less than or equal to x_min for bbox [0.72005206 0.9675926  0.48567709 0.56712961 0.        ].\n",
      "x_max is less than or equal to x_min for bbox [0.99522567 0.6261574  0.94835067 0.89699072 0.        ].\n"
     ]
    }
   ],
   "source": [
    "for partition in ['train','test','val']: \n",
    "    for image in os.listdir(os.path.join('data', partition, 'images')):\n",
    "        img = cv2.imread(os.path.join('data', partition, 'images', image))\n",
    "\n",
    "        coords = [0,0,0.00001,0.00001]\n",
    "        label_path = os.path.join('data', partition, 'labels', f'{image.split(\".\")[0]}.json')\n",
    "        if os.path.exists(label_path):\n",
    "            with open(label_path, 'r') as f:\n",
    "                label = json.load(f)\n",
    "\n",
    "            coords[0] = label['shapes'][0]['points'][0][0]\n",
    "            coords[1] = label['shapes'][0]['points'][0][1]\n",
    "            coords[2] = label['shapes'][0]['points'][1][0]\n",
    "            coords[3] = label['shapes'][0]['points'][1][1]\n",
    "            coords = list(np.divide(coords, [640,480,640,480]))\n",
    "\n",
    "        try: \n",
    "            for x in range(60):\n",
    "                augmented = augmentor(image=img, bboxes=[coords], class_labels=['face'])\n",
    "                cv2.imwrite(os.path.join('aug_data', partition, 'images', f'{image.split(\".\")[0]}.{x}.jpg'), augmented['image'])\n",
    "\n",
    "                annotation = {}\n",
    "                annotation['image'] = image\n",
    "\n",
    "                if os.path.exists(label_path):\n",
    "                    if len(augmented['bboxes']) == 0: \n",
    "                        annotation['bbox'] = [0,0,0,0]\n",
    "                        annotation['class'] = 0 \n",
    "                    else: \n",
    "                        annotation['bbox'] = augmented['bboxes'][0]\n",
    "                        annotation['class'] = 1\n",
    "                else: \n",
    "                    annotation['bbox'] = [0,0,0,0]\n",
    "                    annotation['class'] = 0 \n",
    "\n",
    "\n",
    "                with open(os.path.join('aug_data', partition, 'labels', f'{image.split(\".\")[0]}.{x}.json'), 'w') as f:\n",
    "                    json.dump(annotation, f)\n",
    "\n",
    "        except Exception as e:\n",
    "            print(e)"
   ]
  },
  {
   "cell_type": "markdown",
   "metadata": {},
   "source": [
    "Now we have augmented labels in aug_data folder"
   ]
  },
  {
   "cell_type": "markdown",
   "metadata": {},
   "source": [
    "In the json of images label if the class is 1 then image was found in the image\n",
    "\n",
    "If the class is 0 then image not found"
   ]
  }
 ],
 "metadata": {
  "kernelspec": {
   "display_name": "vision_env",
   "language": "python",
   "name": "python3"
  },
  "language_info": {
   "codemirror_mode": {
    "name": "ipython",
    "version": 3
   },
   "file_extension": ".py",
   "mimetype": "text/x-python",
   "name": "python",
   "nbconvert_exporter": "python",
   "pygments_lexer": "ipython3",
   "version": "3.10.15"
  }
 },
 "nbformat": 4,
 "nbformat_minor": 2
}
