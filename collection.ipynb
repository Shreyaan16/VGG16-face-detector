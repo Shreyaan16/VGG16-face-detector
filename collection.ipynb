{
 "cells": [
  {
   "cell_type": "code",
   "execution_count": 1,
   "metadata": {},
   "outputs": [],
   "source": [
    "import os\n",
    "import time\n",
    "import uuid\n",
    "import cv2"
   ]
  },
  {
   "cell_type": "code",
   "execution_count": 3,
   "metadata": {},
   "outputs": [],
   "source": [
    "number_images = 30"
   ]
  },
  {
   "cell_type": "code",
   "execution_count": 4,
   "metadata": {},
   "outputs": [
    {
     "name": "stdout",
     "output_type": "stream",
     "text": [
      "Folder created at: ./data\n"
     ]
    }
   ],
   "source": [
    "path = \"./data\"\n",
    "os.makedirs(path, exist_ok=True)\n",
    "print(f\"Folder created at: {path}\")"
   ]
  },
  {
   "cell_type": "code",
   "execution_count": 6,
   "metadata": {},
   "outputs": [
    {
     "name": "stdout",
     "output_type": "stream",
     "text": [
      "Folder created at: ./data/images\n"
     ]
    }
   ],
   "source": [
    "IMAGES_PATH = \"./data/images\"\n",
    "os.makedirs(IMAGES_PATH, exist_ok=True)\n",
    "print(f\"Folder created at: {IMAGES_PATH}\")"
   ]
  },
  {
   "cell_type": "code",
   "execution_count": 10,
   "metadata": {},
   "outputs": [
    {
     "name": "stdout",
     "output_type": "stream",
     "text": [
      "Folder created at: ./data/labels\n"
     ]
    }
   ],
   "source": [
    "LABELS_PATH = \"./data/labels\"\n",
    "os.makedirs(LABELS_PATH, exist_ok=True)\n",
    "print(f\"Folder created at: {LABELS_PATH}\")"
   ]
  },
  {
   "cell_type": "markdown",
   "metadata": {},
   "source": [
    "Uncomment the code\n",
    "\n",
    "\n",
    "\n",
    "\n",
    "\n",
    "The cell below captures video from your computer's webcam and captures images in short intervals of time.\n",
    "\n",
    "\n",
    "\n",
    "\n",
    "\n",
    "\n",
    "\n",
    "\n",
    "\n",
    "These images are stored in images folder made earlier\n",
    "\n",
    "\n",
    "\n",
    "\n",
    "\n",
    "\n",
    "\n",
    "\n",
    "\n",
    "The recording automatically stops when 30 images are recorded"
   ]
  },
  {
   "cell_type": "code",
   "execution_count": null,
   "metadata": {},
   "outputs": [
    {
     "name": "stdout",
     "output_type": "stream",
     "text": [
      "Collecting image 0\n",
      "Collecting image 1\n",
      "Collecting image 2\n",
      "Collecting image 3\n",
      "Collecting image 4\n",
      "Collecting image 5\n",
      "Collecting image 6\n",
      "Collecting image 7\n",
      "Collecting image 8\n",
      "Collecting image 9\n",
      "Collecting image 10\n",
      "Collecting image 11\n",
      "Collecting image 12\n",
      "Collecting image 13\n",
      "Collecting image 14\n",
      "Collecting image 15\n",
      "Collecting image 16\n",
      "Collecting image 17\n",
      "Collecting image 18\n",
      "Collecting image 19\n",
      "Collecting image 20\n",
      "Collecting image 21\n",
      "Collecting image 22\n",
      "Collecting image 23\n",
      "Collecting image 24\n",
      "Collecting image 25\n",
      "Collecting image 26\n",
      "Collecting image 27\n",
      "Collecting image 28\n",
      "Collecting image 29\n"
     ]
    }
   ],
   "source": [
    "# cap = cv2.VideoCapture(0)\n",
    "# for imgnum in range(number_images):\n",
    "#     print('Collecting image {}'.format(imgnum))\n",
    "#     ret, frame = cap.read()\n",
    "#     imgname = os.path.join(IMAGES_PATH,f'{str(uuid.uuid1())}.jpg')\n",
    "#     cv2.imwrite(imgname, frame)\n",
    "#     cv2.imshow('frame', frame)\n",
    "#     time.sleep(0.5)\n",
    "\n",
    "#     if cv2.waitKey(10) & 0xFF == ord('q'):\n",
    "#         break\n",
    "# cap.release()\n",
    "# cv2.destroyAllWindows()"
   ]
  },
  {
   "cell_type": "markdown",
   "metadata": {},
   "source": [
    "Now run the below cell.                                                                    \n",
    "\n",
    "\n",
    "\n",
    "\n",
    "\n",
    "\n",
    "\n",
    "\n",
    "\n",
    "It also does the same thing but now change the perspective from which the video is being recorder."
   ]
  },
  {
   "cell_type": "markdown",
   "metadata": {},
   "source": [
    "The codes are commented so that while testing the code we dont again start capturing.\n",
    "\n",
    "\n",
    "\n",
    "\n",
    "\n",
    "\n",
    "Uncomment the code while recording for the first time"
   ]
  },
  {
   "cell_type": "code",
   "execution_count": null,
   "metadata": {},
   "outputs": [
    {
     "name": "stdout",
     "output_type": "stream",
     "text": [
      "Collecting image 0\n",
      "Collecting image 1\n",
      "Collecting image 2\n",
      "Collecting image 3\n",
      "Collecting image 4\n",
      "Collecting image 5\n",
      "Collecting image 6\n",
      "Collecting image 7\n",
      "Collecting image 8\n",
      "Collecting image 9\n",
      "Collecting image 10\n",
      "Collecting image 11\n",
      "Collecting image 12\n",
      "Collecting image 13\n",
      "Collecting image 14\n",
      "Collecting image 15\n",
      "Collecting image 16\n",
      "Collecting image 17\n",
      "Collecting image 18\n",
      "Collecting image 19\n",
      "Collecting image 20\n",
      "Collecting image 21\n",
      "Collecting image 22\n",
      "Collecting image 23\n",
      "Collecting image 24\n",
      "Collecting image 25\n",
      "Collecting image 26\n",
      "Collecting image 27\n",
      "Collecting image 28\n",
      "Collecting image 29\n"
     ]
    }
   ],
   "source": [
    "# cap = cv2.VideoCapture(0)\n",
    "# for imgnum in range(number_images):\n",
    "#     print('Collecting image {}'.format(imgnum))\n",
    "#     ret, frame = cap.read()\n",
    "#     imgname = os.path.join(IMAGES_PATH,f'{str(uuid.uuid1())}.jpg')\n",
    "#     cv2.imwrite(imgname, frame)\n",
    "#     cv2.imshow('frame', frame)\n",
    "#     time.sleep(0.5)\n",
    "\n",
    "#     if cv2.waitKey(10) & 0xFF == ord('q'):\n",
    "#         break\n",
    "# cap.release()\n",
    "# cv2.destroyAllWindows()"
   ]
  },
  {
   "cell_type": "markdown",
   "metadata": {},
   "source": [
    "Now need to annotate the images\n",
    "\n",
    "Steps:\n",
    "\n",
    "In the command line type labelme\n",
    "\n",
    "In the labelme window -> file -> open -> images\n",
    "\n",
    "Important:\n",
    "\n",
    "Change the output directory in the file option to the labels folder \n",
    "Also turn on the auto save\n",
    "\n",
    "Annotate each image and then save them using title face and press d to go to next image\n",
    "\n",
    "This will create a JSON file in the labels folder"
   ]
  },
  {
   "cell_type": "markdown",
   "metadata": {},
   "source": [
    "  \"shapes\": [\n",
    "\n",
    "    {\n",
    "\n",
    "      \"label\": \"face\",\n",
    "\n",
    "      \"points\": [\n",
    "\n",
    "        [\n",
    "\n",
    "          601.3888888888889,\n",
    "\n",
    "          265.55555555555554\n",
    "\n",
    "        ],\n",
    "\n",
    "        [\n",
    "\n",
    "          635.2777777777778,\n",
    "\n",
    "          403.8888888888889\n",
    "\n",
    "        ]\n",
    "\n",
    "      ],\n",
    "      \n",
    "Each JSON file will have similar structure to this where label is face and points are the corners of bounding boxes of the face."
   ]
  },
  {
   "cell_type": "code",
   "execution_count": 12,
   "metadata": {},
   "outputs": [
    {
     "name": "stdout",
     "output_type": "stream",
     "text": [
      "Folder created at: ./data/train\n",
      "Folder created at: ./data/test\n",
      "Folder created at: ./data/val\n"
     ]
    }
   ],
   "source": [
    "#make train-test-val folders for future help\n",
    "TRAIN_PATH = \"./data/train\"\n",
    "os.makedirs(TRAIN_PATH, exist_ok=True)\n",
    "print(f\"Folder created at: {TRAIN_PATH}\")\n",
    "\n",
    "TEST_PATH = \"./data/test\"\n",
    "os.makedirs(TEST_PATH, exist_ok=True)\n",
    "print(f\"Folder created at: {TEST_PATH}\")\n",
    "\n",
    "VAL_PATH = \"./data/val\"\n",
    "os.makedirs(VAL_PATH, exist_ok=True)\n",
    "print(f\"Folder created at: {VAL_PATH}\")"
   ]
  },
  {
   "cell_type": "code",
   "execution_count": 13,
   "metadata": {},
   "outputs": [
    {
     "name": "stdout",
     "output_type": "stream",
     "text": [
      "Folder created at: ./data/train/labels\n",
      "Folder created at: ./data/test/labels\n",
      "Folder created at: ./data/val/labels\n",
      "Folder created at: ./data/train/images\n",
      "Folder created at: ./data/test/images\n",
      "Folder created at: ./data/val/images\n"
     ]
    }
   ],
   "source": [
    "#also need to make labels and images under each train test eval folder\n",
    "\n",
    "#labels\n",
    "TRAIN_LABEL_PATH = \"./data/train/labels\"\n",
    "os.makedirs(TRAIN_LABEL_PATH, exist_ok=True)\n",
    "print(f\"Folder created at: {TRAIN_LABEL_PATH}\")\n",
    "\n",
    "TEST_LABEL_PATH = \"./data/test/labels\"\n",
    "os.makedirs(TEST_LABEL_PATH, exist_ok=True)\n",
    "print(f\"Folder created at: {TEST_LABEL_PATH}\")\n",
    "\n",
    "VAL_LABEL_PATH = \"./data/val/labels\"\n",
    "os.makedirs(VAL_LABEL_PATH, exist_ok=True)\n",
    "print(f\"Folder created at: {VAL_LABEL_PATH}\")\n",
    "\n",
    "\n",
    "#images\n",
    "TRAIN_IMAGE_PATH = \"./data/train/images\"\n",
    "os.makedirs(TRAIN_IMAGE_PATH, exist_ok=True)\n",
    "print(f\"Folder created at: {TRAIN_IMAGE_PATH}\")\n",
    "\n",
    "TEST_IMAGE_PATH = \"./data/test/images\"\n",
    "os.makedirs(TEST_IMAGE_PATH, exist_ok=True)\n",
    "print(f\"Folder created at: {TEST_IMAGE_PATH}\")\n",
    "\n",
    "VAL_IMAGE_PATH = \"./data/val/images\"\n",
    "os.makedirs(VAL_IMAGE_PATH, exist_ok=True)\n",
    "print(f\"Folder created at: {VAL_IMAGE_PATH}\")"
   ]
  },
  {
   "cell_type": "code",
   "execution_count": null,
   "metadata": {},
   "outputs": [],
   "source": []
  }
 ],
 "metadata": {
  "kernelspec": {
   "display_name": "vision_env",
   "language": "python",
   "name": "python3"
  },
  "language_info": {
   "codemirror_mode": {
    "name": "ipython",
    "version": 3
   },
   "file_extension": ".py",
   "mimetype": "text/x-python",
   "name": "python",
   "nbconvert_exporter": "python",
   "pygments_lexer": "ipython3",
   "version": "3.10.15"
  }
 },
 "nbformat": 4,
 "nbformat_minor": 2
}
