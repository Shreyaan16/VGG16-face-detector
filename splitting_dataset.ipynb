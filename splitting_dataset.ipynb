{
 "cells": [
  {
   "cell_type": "code",
   "execution_count": 1,
   "metadata": {
    "id": "gN62cG4xO4gE"
   },
   "outputs": [],
   "source": [
    "import tensorflow as tf\n",
    "import json\n",
    "import numpy as np\n",
    "import matplotlib.pyplot as plt"
   ]
  },
  {
   "cell_type": "code",
   "execution_count": 2,
   "metadata": {
    "id": "BB93GtGSP7Ef"
   },
   "outputs": [],
   "source": [
    "# Avoid OOM errors by setting GPU Memory Consumption Growth\n",
    "gpus = tf.config.experimental.list_physical_devices('GPU')\n",
    "for gpu in gpus:\n",
    "    tf.config.experimental.set_memory_growth(gpu, True)"
   ]
  },
  {
   "cell_type": "code",
   "execution_count": 3,
   "metadata": {
    "colab": {
     "base_uri": "https://localhost:8080/"
    },
    "id": "VLyTo7KiQDuT",
    "outputId": "0198acfe-ebc7-4ad3-abca-785f999e5903"
   },
   "outputs": [
    {
     "data": {
      "text/plain": [
       "[PhysicalDevice(name='/physical_device:GPU:0', device_type='GPU')]"
      ]
     },
     "execution_count": 3,
     "metadata": {},
     "output_type": "execute_result"
    }
   ],
   "source": [
    "tf.config.list_physical_devices('GPU')"
   ]
  },
  {
   "cell_type": "code",
   "execution_count": null,
   "metadata": {
    "id": "rZzjSF0iQF9c"
   },
   "outputs": [],
   "source": [
    "#loading images with .jpg extension\n",
    "images = tf.data.Dataset.list_files('data/images/*.jpg' , shuffle = False)"
   ]
  },
  {
   "cell_type": "code",
   "execution_count": 5,
   "metadata": {
    "colab": {
     "base_uri": "https://localhost:8080/"
    },
    "id": "YzW0kL5oQwMp",
    "outputId": "b6fb55c1-385e-462e-94db-9c13dc3717ab"
   },
   "outputs": [
    {
     "data": {
      "text/plain": [
       "b'/content/drive/MyDrive/data/images/53f3a875-b5a9-11ef-8334-8f4bc8b0bf57.jpg'"
      ]
     },
     "execution_count": 5,
     "metadata": {},
     "output_type": "execute_result"
    }
   ],
   "source": [
    "#if this shows empty then the images are not getting picked up\n",
    "images.as_numpy_iterator().next()"
   ]
  },
  {
   "cell_type": "code",
   "execution_count": 6,
   "metadata": {
    "id": "t0YVZiChQ0O4"
   },
   "outputs": [],
   "source": [
    "def load_image(x):\n",
    "    byte_img = tf.io.read_file(x)\n",
    "    img = tf.io.decode_jpeg(byte_img)\n",
    "    return img"
   ]
  },
  {
   "cell_type": "code",
   "execution_count": 7,
   "metadata": {
    "id": "Yjk8DXwnRCBL"
   },
   "outputs": [],
   "source": [
    "#tensorflow map applies a function to each element of the dataset\n",
    "images = images.map(load_image)"
   ]
  },
  {
   "cell_type": "markdown",
   "metadata": {
    "id": "u36ckWMBRefr"
   },
   "source": [
    "Commenting the below cell as dont want to show the image I used"
   ]
  },
  {
   "cell_type": "code",
   "execution_count": 8,
   "metadata": {
    "id": "I7VzLDWbRUe_"
   },
   "outputs": [],
   "source": [
    "# images.as_numpy_iterator().next()"
   ]
  },
  {
   "cell_type": "code",
   "execution_count": 9,
   "metadata": {
    "colab": {
     "base_uri": "https://localhost:8080/",
     "height": 138
    },
    "id": "xHYZNE-oRWEd",
    "outputId": "97c0d251-ec46-4082-97c2-de57f85e3e06"
   },
   "outputs": [
    {
     "data": {
      "text/html": [
       "<div style=\"max-width:800px; border: 1px solid var(--colab-border-color);\"><style>\n",
       "      pre.function-repr-contents {\n",
       "        overflow-x: auto;\n",
       "        padding: 8px 12px;\n",
       "        max-height: 500px;\n",
       "      }\n",
       "\n",
       "      pre.function-repr-contents.function-repr-contents-collapsed {\n",
       "        cursor: pointer;\n",
       "        max-height: 100px;\n",
       "      }\n",
       "    </style>\n",
       "    <pre style=\"white-space: initial; background:\n",
       "         var(--colab-secondary-surface-color); padding: 8px 12px;\n",
       "         border-bottom: 1px solid var(--colab-border-color);\"><b>tensorflow.python.data.ops.map_op._MapDataset</b><br/>def __init__(input_dataset, map_func, use_inter_op_parallelism=True, preserve_cardinality=True, use_legacy_function=False, name=None)</pre><pre class=\"function-repr-contents function-repr-contents-collapsed\" style=\"\"><a class=\"filepath\" style=\"display:none\" href=\"#\">/usr/local/lib/python3.10/dist-packages/tensorflow/python/data/ops/map_op.py</a>A `Dataset` that maps a function over elements in its input.</pre>\n",
       "      <script>\n",
       "      if (google.colab.kernel.accessAllowed && google.colab.files && google.colab.files.view) {\n",
       "        for (const element of document.querySelectorAll('.filepath')) {\n",
       "          element.style.display = 'block'\n",
       "          element.onclick = (event) => {\n",
       "            event.preventDefault();\n",
       "            event.stopPropagation();\n",
       "            google.colab.files.view(element.textContent, 94);\n",
       "          };\n",
       "        }\n",
       "      }\n",
       "      for (const element of document.querySelectorAll('.function-repr-contents')) {\n",
       "        element.onclick = (event) => {\n",
       "          event.preventDefault();\n",
       "          event.stopPropagation();\n",
       "          element.classList.toggle('function-repr-contents-collapsed');\n",
       "        };\n",
       "      }\n",
       "      </script>\n",
       "      </div>"
      ],
      "text/plain": [
       "tensorflow.python.data.ops.map_op._MapDataset"
      ]
     },
     "execution_count": 9,
     "metadata": {},
     "output_type": "execute_result"
    }
   ],
   "source": [
    "type(images)"
   ]
  },
  {
   "cell_type": "code",
   "execution_count": 10,
   "metadata": {
    "id": "PW19xFiQRpIt"
   },
   "outputs": [],
   "source": [
    "#batch the images and see in set of any number. Here I have taken 4\n",
    "image_generator = images.batch(4).as_numpy_iterator()\n",
    "plot_images = image_generator.next()"
   ]
  },
  {
   "cell_type": "markdown",
   "metadata": {
    "id": "Ebwjeqm-R_Xo"
   },
   "source": [
    "Commenting for the same reason as above"
   ]
  },
  {
   "cell_type": "code",
   "execution_count": 11,
   "metadata": {
    "id": "XRTDCGYZR5Y6"
   },
   "outputs": [],
   "source": [
    "# fig, ax = plt.subplots(ncols=4, figsize=(20,20))\n",
    "# for idx, image in enumerate(plot_images):\n",
    "#     ax[idx].imshow(image)\n",
    "# plt.show()"
   ]
  },
  {
   "cell_type": "markdown",
   "metadata": {
    "id": "yRRjCGT0SOWU"
   },
   "source": [
    "Now need to split the data into train-test-validate sets"
   ]
  },
  {
   "cell_type": "code",
   "execution_count": null,
   "metadata": {
    "colab": {
     "base_uri": "https://localhost:8080/"
    },
    "id": "8d3jYP5NWzAg",
    "outputId": "6850fc59-208b-4c23-810a-8090a8ae71b6"
   },
   "outputs": [
    {
     "name": "stdout",
     "output_type": "stream",
     "text": [
      "Number of files in the folder: 60\n"
     ]
    }
   ],
   "source": [
    "#checking number of images we have captured\n",
    "import os\n",
    "folder_path = \"/data/images\"\n",
    "file_count_images = 0\n",
    "for file in os.listdir(folder_path):\n",
    "    if os.path.isfile(os.path.join(folder_path, file)):\n",
    "        file_count_images += 1\n",
    "print(f\"Number of files in the folder: {file_count_images}\")"
   ]
  },
  {
   "cell_type": "code",
   "execution_count": null,
   "metadata": {
    "colab": {
     "base_uri": "https://localhost:8080/"
    },
    "id": "4fVk0C5_W6_A",
    "outputId": "3e0b8f34-a4f8-483b-e84e-faee73a6d56f"
   },
   "outputs": [
    {
     "name": "stdout",
     "output_type": "stream",
     "text": [
      "Number of files in the folder: 52\n"
     ]
    }
   ],
   "source": [
    "#checking the number of json files\n",
    "import os\n",
    "labels_path = \"data/labels\"\n",
    "file_count_json = 0\n",
    "for file in os.listdir(labels_path):\n",
    "    if os.path.isfile(os.path.join(labels_path, file)):\n",
    "        file_count_json += 1\n",
    "print(f\"Number of files in the folder: {file_count_json}\")"
   ]
  },
  {
   "cell_type": "markdown",
   "metadata": {
    "id": "Y7thvD6UXhxg"
   },
   "source": [
    "Manually Shift the images so that\n",
    "\n",
    "train has atleast 70% of images\n",
    "\n",
    "val has 20%\n",
    "\n",
    "and\n",
    "\n",
    "test has 10%\n",
    "\n",
    "or run the cells below to do the same"
   ]
  },
  {
   "cell_type": "code",
   "execution_count": null,
   "metadata": {
    "colab": {
     "base_uri": "https://localhost:8080/"
    },
    "id": "FLxJ4LfvaMHh",
    "outputId": "f7087bde-4264-4bbe-b75e-86c067cea57b"
   },
   "outputs": [
    {
     "name": "stdout",
     "output_type": "stream",
     "text": [
      "Copied 42 files to train folder\n",
      "Copied 12 files to test folder\n",
      "Copied 6 files to val folder\n"
     ]
    }
   ],
   "source": [
    "# import os\n",
    "# import shutil\n",
    "# import random\n",
    "\n",
    "# #for moving images from images folder to all the 3 train test val images folder\n",
    "\n",
    "# # Step 1: Define folders\n",
    "# source_folder = \"data/images\"\n",
    "# train_folder = \"data/train/images\"\n",
    "# test_folder = \"data/test/images\"\n",
    "# val_folder = \"data/val/images\"\n",
    "\n",
    "# # Step 2: List all files in the source folder so that unique images in each folder\n",
    "# all_files = [file for file in os.listdir(source_folder) if os.path.isfile(os.path.join(source_folder, file))]\n",
    "\n",
    "# # Shuffle the file list for randomness\n",
    "# random.shuffle(all_files)\n",
    "\n",
    "# # Step 3: Split files into train, test, and val sets\n",
    "# train_ratio = 0.7\n",
    "# test_ratio = 0.2\n",
    "# val_ratio = 0.1\n",
    "\n",
    "# train_split = int(train_ratio * len(all_files))\n",
    "# test_split = train_split + int(test_ratio * len(all_files))\n",
    "\n",
    "# train_files = all_files[:train_split]\n",
    "# test_files = all_files[train_split:test_split]\n",
    "# val_files = all_files[test_split:]\n",
    "\n",
    "# # Step 4: Copy files into respective folders\n",
    "# for file_name in train_files:\n",
    "#     shutil.copy(os.path.join(source_folder, file_name), os.path.join(train_folder, file_name))\n",
    "\n",
    "# for file_name in test_files:\n",
    "#     shutil.copy(os.path.join(source_folder, file_name), os.path.join(test_folder, file_name))\n",
    "\n",
    "# for file_name in val_files:\n",
    "#     shutil.copy(os.path.join(source_folder, file_name), os.path.join(val_folder, file_name))\n",
    "\n",
    "# print(f\"Copied {len(train_files)} files to train folder\")\n",
    "# print(f\"Copied {len(test_files)} files to test folder\")\n",
    "# print(f\"Copied {len(val_files)} files to val folder\")"
   ]
  },
  {
   "cell_type": "code",
   "execution_count": 19,
   "metadata": {
    "colab": {
     "base_uri": "https://localhost:8080/"
    },
    "id": "9XjucjUYa2ew",
    "outputId": "2ccc424f-99ff-4fa6-be92-a39227193e8a"
   },
   "outputs": [
    {
     "name": "stdout",
     "output_type": "stream",
     "text": [
      "Copied label fd32568d-b5a8-11ef-8be0-8f4bc8b0bf57.json to /content/drive/MyDrive/data/train/labels\n",
      "Copied label 54b75512-b5a9-11ef-9df8-8f4bc8b0bf57.json to /content/drive/MyDrive/data/train/labels\n",
      "Copied label f5602efd-b5a8-11ef-ba07-8f4bc8b0bf57.json to /content/drive/MyDrive/data/train/labels\n",
      "Copied label 56a62ecb-b5a9-11ef-b072-8f4bc8b0bf57.json to /content/drive/MyDrive/data/train/labels\n",
      "Copied label fc366854-b5a8-11ef-aad3-8f4bc8b0bf57.json to /content/drive/MyDrive/data/train/labels\n",
      "Copied label fb399c97-b5a8-11ef-81df-8f4bc8b0bf57.json to /content/drive/MyDrive/data/train/labels\n",
      "Copied label f3d4c638-b5a8-11ef-bf97-8f4bc8b0bf57.json to /content/drive/MyDrive/data/train/labels\n",
      "Copied label 5b7fcf22-b5a9-11ef-801f-8f4bc8b0bf57.json to /content/drive/MyDrive/data/train/labels\n",
      "Copied label f6044145-b5a8-11ef-8f3e-8f4bc8b0bf57.json to /content/drive/MyDrive/data/train/labels\n",
      "Copied label f5b1c601-b5a8-11ef-becb-8f4bc8b0bf57.json to /content/drive/MyDrive/data/train/labels\n",
      "Copied label f42e568f-b5a8-11ef-81b2-8f4bc8b0bf57.json to /content/drive/MyDrive/data/train/labels\n",
      "Copied label 5c787583-b5a9-11ef-b104-8f4bc8b0bf57.json to /content/drive/MyDrive/data/train/labels\n",
      "Copied label fae5747a-b5a8-11ef-8a2c-8f4bc8b0bf57.json to /content/drive/MyDrive/data/train/labels\n",
      "Copied label 584396e8-b5a9-11ef-b96d-8f4bc8b0bf57.json to /content/drive/MyDrive/data/train/labels\n",
      "Copied label f8ed1077-b5a8-11ef-ab80-8f4bc8b0bf57.json to /content/drive/MyDrive/data/train/labels\n",
      "Copied label f9951db7-b5a8-11ef-87fe-8f4bc8b0bf57.json to /content/drive/MyDrive/data/train/labels\n",
      "Copied label f6fd9cdf-b5a8-11ef-b5e1-8f4bc8b0bf57.json to /content/drive/MyDrive/data/train/labels\n",
      "Copied label fbe1c001-b5a8-11ef-908d-8f4bc8b0bf57.json to /content/drive/MyDrive/data/train/labels\n",
      "Copied label f481b730-b5a8-11ef-ba79-8f4bc8b0bf57.json to /content/drive/MyDrive/data/train/labels\n",
      "Copied label 58ebf700-b5a9-11ef-8a22-8f4bc8b0bf57.json to /content/drive/MyDrive/data/train/labels\n",
      "Copied label fcdf8123-b5a8-11ef-8058-8f4bc8b0bf57.json to /content/drive/MyDrive/data/train/labels\n",
      "Copied label 5a86536a-b5a9-11ef-a1f3-8f4bc8b0bf57.json to /content/drive/MyDrive/data/train/labels\n",
      "Copied label f6aa65ef-b5a8-11ef-b5a5-8f4bc8b0bf57.json to /content/drive/MyDrive/data/train/labels\n",
      "Copied label 5d217b21-b5a9-11ef-9d6a-8f4bc8b0bf57.json to /content/drive/MyDrive/data/train/labels\n",
      "Copied label 5ad912d3-b5a9-11ef-b66e-8f4bc8b0bf57.json to /content/drive/MyDrive/data/train/labels\n",
      "Copied label f9e7f67c-b5a8-11ef-9149-8f4bc8b0bf57.json to /content/drive/MyDrive/data/train/labels\n",
      "Copied label 5d72453d-b5a9-11ef-9115-8f4bc8b0bf57.json to /content/drive/MyDrive/data/train/labels\n",
      "Copied label fc8abc39-b5a8-11ef-80bd-8f4bc8b0bf57.json to /content/drive/MyDrive/data/train/labels\n",
      "Copied label f380ad53-b5a8-11ef-9788-8f4bc8b0bf57.json to /content/drive/MyDrive/data/train/labels\n",
      "Copied label 57f235e6-b5a9-11ef-a6be-8f4bc8b0bf57.json to /content/drive/MyDrive/data/train/labels\n",
      "Copied label 5b2dfbd6-b5a9-11ef-b0c4-8f4bc8b0bf57.json to /content/drive/MyDrive/data/train/labels\n",
      "Copied label 58973e3f-b5a9-11ef-8480-8f4bc8b0bf57.json to /content/drive/MyDrive/data/train/labels\n",
      "Copied label 56f86df8-b5a9-11ef-8512-8f4bc8b0bf57.json to /content/drive/MyDrive/data/train/labels\n",
      "Copied label 593da586-b5a9-11ef-9ad1-8f4bc8b0bf57.json to /content/drive/MyDrive/data/train/labels\n",
      "Copied label fb8c433e-b5a8-11ef-9362-8f4bc8b0bf57.json to /content/drive/MyDrive/data/train/labels\n",
      "Copied label fa919db5-b5a8-11ef-80b2-8f4bc8b0bf57.json to /content/drive/MyDrive/data/train/labels\n",
      "Copied label 56008aa9-b5a9-11ef-94ef-8f4bc8b0bf57.json to /content/drive/MyDrive/data/test/labels\n",
      "Copied label fa3dedb1-b5a8-11ef-9273-8f4bc8b0bf57.json to /content/drive/MyDrive/data/test/labels\n",
      "Copied label 5bd3e108-b5a9-11ef-acfe-8f4bc8b0bf57.json to /content/drive/MyDrive/data/test/labels\n",
      "Copied label 54634f74-b5a9-11ef-9a0f-8f4bc8b0bf57.json to /content/drive/MyDrive/data/test/labels\n",
      "Copied label f89a573d-b5a8-11ef-a04b-8f4bc8b0bf57.json to /content/drive/MyDrive/data/test/labels\n",
      "Copied label f65636cc-b5a8-11ef-b72d-8f4bc8b0bf57.json to /content/drive/MyDrive/data/test/labels\n",
      "Copied label 53f3a875-b5a9-11ef-8334-8f4bc8b0bf57.json to /content/drive/MyDrive/data/test/labels\n",
      "Copied label 5ccc8cda-b5a9-11ef-a695-8f4bc8b0bf57.json to /content/drive/MyDrive/data/test/labels\n",
      "Copied label 59e19705-b5a9-11ef-80a5-8f4bc8b0bf57.json to /content/drive/MyDrive/data/test/labels\n",
      "Copied label 5a34532a-b5a9-11ef-bd76-8f4bc8b0bf57.json to /content/drive/MyDrive/data/test/labels\n",
      "Copied label 5c25f5db-b5a9-11ef-ab7f-8f4bc8b0bf57.json to /content/drive/MyDrive/data/val/labels\n",
      "Copied label f3041845-b5a8-11ef-8eb3-8f4bc8b0bf57.json to /content/drive/MyDrive/data/val/labels\n",
      "Copied label 5509a2c1-b5a9-11ef-86b8-8f4bc8b0bf57.json to /content/drive/MyDrive/data/val/labels\n",
      "Copied label f9405049-b5a8-11ef-9e16-8f4bc8b0bf57.json to /content/drive/MyDrive/data/val/labels\n",
      "Copied label 598fccc9-b5a9-11ef-9879-8f4bc8b0bf57.json to /content/drive/MyDrive/data/val/labels\n",
      "Copied label 5653c8d9-b5a9-11ef-8acd-8f4bc8b0bf57.json to /content/drive/MyDrive/data/val/labels\n"
     ]
    }
   ],
   "source": [
    "# #move the matching labels\n",
    "# import os\n",
    "# import shutil\n",
    "\n",
    "# # Define base directories\n",
    "# base_dir = '/content/drive/MyDrive/data'\n",
    "# image_dir = os.path.join(base_dir, 'images')\n",
    "# label_dir = os.path.join(base_dir, 'labels')\n",
    "\n",
    "# # Ensure labels directories exist for train, test, and val\n",
    "# for folder in ['train', 'test', 'val']:\n",
    "#     os.makedirs(os.path.join(base_dir, folder, 'labels'), exist_ok=True)\n",
    "\n",
    "# # Associate labels with images in train, test, and val\n",
    "# for folder in ['train', 'test', 'val']:\n",
    "#     image_folder = os.path.join(base_dir, folder, 'images')\n",
    "#     label_folder = os.path.join(base_dir, folder, 'labels')\n",
    "\n",
    "#     # Iterate through images in the folder\n",
    "#     for file in os.listdir(image_folder):\n",
    "#         if file.endswith(('.jpg', '.png')):  # Adjust extensions if needed\n",
    "#             filename = os.path.splitext(file)[0] + '.json'  # Associated label file\n",
    "#             existing_label_path = os.path.join(label_dir, filename)\n",
    "\n",
    "#             if os.path.exists(existing_label_path):\n",
    "#                 new_label_path = os.path.join(label_folder, filename)\n",
    "#                 shutil.copy(existing_label_path, new_label_path)  # Copy label file\n",
    "#                 print(f\"Copied label {filename} to {label_folder}\")\n"
   ]
  },
  {
   "cell_type": "code",
   "execution_count": null,
   "metadata": {
    "colab": {
     "base_uri": "https://localhost:8080/"
    },
    "id": "KWVQ2oe4c_lU",
    "outputId": "ccb1df96-2a2c-44a9-ee47-ec37ccfe54bd"
   },
   "outputs": [
    {
     "name": "stdout",
     "output_type": "stream",
     "text": [
      "Total train labels: 36\n",
      "Total test labels: 10\n",
      "Total val labels: 6\n",
      "Total number of labels: 52\n",
      "Total number of labels copied: 52\n"
     ]
    }
   ],
   "source": [
    "#checking the number of labels to ensure no errors made\n",
    "\n",
    "total_labels = file_count_json\n",
    "\n",
    "\n",
    "test_labels_path = \"data/test/labels\"\n",
    "train_labels_path = \"data/train/labels\"\n",
    "val_labels_path = \"data/val/labels\"\n",
    "\n",
    "test_label_file_count = 0\n",
    "train_label_file_count = 0\n",
    "val_label_file_count = 0\n",
    "\n",
    "for file in os.listdir(test_labels_path):\n",
    "    if os.path.isfile(os.path.join(test_labels_path, file)):\n",
    "        test_label_file_count += 1\n",
    "\n",
    "for file in os.listdir(train_labels_path):\n",
    "    if os.path.isfile(os.path.join(train_labels_path, file)):\n",
    "        train_label_file_count += 1\n",
    "\n",
    "for file in os.listdir(val_labels_path):\n",
    "    if os.path.isfile(os.path.join(val_labels_path, file)):\n",
    "        val_label_file_count += 1\n",
    "\n",
    "total_labels_copied = test_label_file_count + train_label_file_count + val_label_file_count\n",
    "\n",
    "print(f\"Total train labels: {train_label_file_count}\")\n",
    "print(f\"Total test labels: {test_label_file_count}\")\n",
    "print(f\"Total val labels: {val_label_file_count}\")\n",
    "\n",
    "print(f\"Total number of labels: {total_labels}\")\n",
    "print(f\"Total number of labels copied: {total_labels_copied}\")"
   ]
  },
  {
   "cell_type": "code",
   "execution_count": null,
   "metadata": {
    "id": "IkasnkB1d080"
   },
   "outputs": [],
   "source": []
  }
 ],
 "metadata": {
  "accelerator": "GPU",
  "colab": {
   "gpuType": "T4",
   "provenance": []
  },
  "kernelspec": {
   "display_name": "Python 3",
   "name": "python3"
  },
  "language_info": {
   "name": "python"
  }
 },
 "nbformat": 4,
 "nbformat_minor": 0
}
